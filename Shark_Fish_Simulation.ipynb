{
 "cells": [
  {
   "cell_type": "code",
   "execution_count": 1,
   "metadata": {},
   "outputs": [
    {
     "name": "stdout",
     "output_type": "stream",
     "text": [
      "pygame 2.1.2 (SDL 2.0.20, Python 3.10.6)\n",
      "Hello from the pygame community. https://www.pygame.org/contribute.html\n"
     ]
    }
   ],
   "source": [
    "#import numpy as np\n",
    "import pygame\n",
    "import matplotlib.pyplot as plt\n",
    "from matplotlib.animation import FuncAnimation\n",
    "import random\n",
    "import numpy as np\n",
    "from tqdm import tqdm"
   ]
  },
  {
   "cell_type": "code",
   "execution_count": 2,
   "metadata": {},
   "outputs": [],
   "source": [
    "OCEAN_SIZE = 200 # either 40x40 or 200x200\n",
    "FISH_REPRODUCTION_TIME = 3  # fish reproduces every 5 steps, A = 5\n",
    "SHARK_INITIAL_ENERGY = 3 # E = 3  \n",
    "SHARK_REPRODUCTION_TIME = 20 # B = 20\n",
    "\n",
    "# Pygame constants # for 40x40 we will use cellsize 5\n",
    "CELL_SIZE = 4  # Size of each cell, in pixels\n",
    "WINDOW_SIZE = [OCEAN_SIZE*CELL_SIZE, OCEAN_SIZE*CELL_SIZE]  # Window size, in pixels, need chan\n",
    "\n",
    "# Colors\n",
    "BLUE = (0, 255, 0)   #  Fish\n",
    "BLACK = (0, 0, 255)    #  Ocean\n",
    "GRAY = (0,0,0) #  Shark\n",
    "\n",
    "# Lets dreate the ocean\n",
    "ocean = [[None for _ in range(OCEAN_SIZE)] for _ in range(OCEAN_SIZE)]\n",
    "\n",
    "num_fish = 3000\n",
    "num_sharks = 100"
   ]
  },
  {
   "cell_type": "code",
   "execution_count": 3,
   "metadata": {},
   "outputs": [],
   "source": [
    "class Fish:\n",
    "    def __init__(self, x, y):\n",
    "        self.x = x\n",
    "        self.y = y\n",
    "        self.reproduction_counter = 0\n",
    "        self.reproduction_counterRandomized = random.randint(1,4)\n",
    "\n",
    "    def get_empty_neighbours(self):\n",
    "        adjust_cells = [(self.x-1, self.y), (self.x+1, self.y), (self.x, self.y-1), (self.x, self.y+1)]\n",
    "        neighbours = [(nx % OCEAN_SIZE, ny % OCEAN_SIZE) for nx, ny in adjust_cells]\n",
    "        empty_neighbours = [(nx, ny) for nx, ny in neighbours if ocean[nx][ny] is None]\n",
    "        return empty_neighbours\n",
    "    \n",
    "    def move(self):\n",
    "        empty_neighbours = self.get_empty_neighbours()\n",
    "\n",
    "        if empty_neighbours:  # if there are empty neighbouring cells\n",
    "            old_x, old_y = self.x, self.y\n",
    "            new_x, new_y = random.choice(empty_neighbours)\n",
    "\n",
    "            # Move to new position\n",
    "            ocean[old_x][old_y] = None  # Clear old position\n",
    "            self.x, self.y = new_x, new_y  # Update to new position\n",
    "            ocean[new_x][new_y] = self  # Place fish in new position\n",
    "\n",
    "            self.reproduction_counter += 1\n",
    "            if self.reproduction_counter >= self.reproduction_counterRandomized:# FISH_REPRODUCTION_TIME:\n",
    "                self.reproduce(old_x, old_y)  # Pass old position to the reproduce method  \n",
    "                      \n",
    "    def reproduce(self, old_x, old_y):\n",
    "        ocean[old_x][old_y] = Fish(old_x, old_y)\n",
    "        self.reproduction_counter = 0"
   ]
  },
  {
   "cell_type": "code",
   "execution_count": 4,
   "metadata": {},
   "outputs": [],
   "source": [
    "class Shark:\n",
    "    def __init__(self, x, y):\n",
    "        self.x = x\n",
    "        self.y = y\n",
    "        self.energy = SHARK_INITIAL_ENERGY\n",
    "        self.reproduction_counter = 0\n",
    "\n",
    "    def get_fish_neighbours(self): # same thing a empty but now we look for fishes\n",
    "        adjust_cells = [(self.x-1, self.y), (self.x+1, self.y), (self.x, self.y-1), (self.x, self.y+1)]\n",
    "        neighbours = [(nx % OCEAN_SIZE, ny % OCEAN_SIZE) for nx, ny in adjust_cells]\n",
    "        fish_neighbours = [(nx, ny) for nx, ny in neighbours if isinstance(ocean[nx][ny], Fish)]\n",
    "        return fish_neighbours\n",
    "\n",
    "    def get_empty_neighbours(self):\n",
    "        adjust_cells = [(self.x-1, self.y), (self.x+1, self.y), (self.x, self.y-1), (self.x, self.y+1)]\n",
    "        neighbours = [(nx % OCEAN_SIZE, ny % OCEAN_SIZE) for nx, ny in adjust_cells]\n",
    "        empty_neighbours = [(nx, ny) for nx, ny in neighbours if ocean[nx][ny] is None]\n",
    "        return empty_neighbours\n",
    "\n",
    "    def move(self):\n",
    "        old_x, old_y = self.x, self.y  # For my idea of not deleting own spawns, we need to spawn them in old position\n",
    "        \n",
    "        fish_neighbours = self.get_fish_neighbours() # look for fish\n",
    "        if fish_neighbours:  \n",
    "            new_x, new_y = random.choice(fish_neighbours)\n",
    "            self.eat(new_x, new_y)\n",
    "\n",
    "        else:  # else if no fishes move to empty cell\n",
    "            empty_neighbours = self.get_empty_neighbours()\n",
    "            if empty_neighbours: \n",
    "                new_x, new_y = random.choice(empty_neighbours)\n",
    "                ocean[old_x][old_y] = None      # 1 Clear old position\n",
    "                self.x, self.y = new_x, new_y   # 2 Update to new position\n",
    "                ocean[new_x][new_y] = self      # 3 Place shark in new position\n",
    "                \n",
    "        self.energy -= 1 #it will move so it losses energy\n",
    "\n",
    "        if self.energy <= 0:  # if energy drops to 0 or below, shark dies\n",
    "            ocean[self.x][self.y] = None\n",
    "        else: \n",
    "            self.reproduction_counter += 1\n",
    "            if self.reproduction_counter >= SHARK_REPRODUCTION_TIME:\n",
    "                self.reproduce(old_x, old_y)\n",
    "\n",
    "    def eat(self, new_x, new_y):\n",
    "        if isinstance(ocean[new_x][new_y], Fish):  # 1 Check if the object is an instance of Fish\n",
    "            ocean[new_x][new_y] = None      # 2 Remove the fish from the cell\n",
    "\n",
    "        ocean[self.x][self.y] = None        # 3 Clear old position\n",
    "        self.x, self.y = new_x, new_y       # 4 Update to new position\n",
    "        ocean[new_x][new_y] = self          # 5 Place shark in new position\n",
    "        self.energy = SHARK_INITIAL_ENERGY  # 6 Reset energy after eating\n",
    "\n",
    "    def reproduce(self, old_x, old_y): # same as for fishes\n",
    "        ocean[old_x][old_y] = Shark(old_x, old_y)\n",
    "        self.reproduction_counter = 0"
   ]
  },
  {
   "cell_type": "code",
   "execution_count": 5,
   "metadata": {},
   "outputs": [],
   "source": [
    "\n",
    "# Spawn fishes\n",
    "for _ in range(num_fish):\n",
    "    while True: \n",
    "        x = random.randint(0, OCEAN_SIZE-1)\n",
    "        y = random.randint(0, OCEAN_SIZE-1)\n",
    "        if ocean[x][y] is None: # so we sapwn all of them in different places\n",
    "            ocean[x][y] = Fish(x, y)\n",
    "            break\n",
    "\n",
    "# Spawn sharks\n",
    "for _ in range(num_sharks):\n",
    "    while True:\n",
    "        x = random.randint(0, OCEAN_SIZE-1)\n",
    "        y = random.randint(0, OCEAN_SIZE-1)\n",
    "        if ocean[x][y] is None:\n",
    "            ocean[x][y] = Shark(x, y)\n",
    "            break"
   ]
  },
  {
   "cell_type": "code",
   "execution_count": 6,
   "metadata": {},
   "outputs": [],
   "source": [
    "fish_population  = []\n",
    "shark_population = []"
   ]
  },
  {
   "cell_type": "code",
   "execution_count": 7,
   "metadata": {},
   "outputs": [
    {
     "ename": "error",
     "evalue": "display Surface quit",
     "output_type": "error",
     "traceback": [
      "\u001b[0;31m---------------------------------------------------------------------------\u001b[0m",
      "\u001b[0;31merror\u001b[0m                                     Traceback (most recent call last)",
      "\u001b[1;32m/home/mikolaj/Documents/Studia/Computer Modeling of Physical Phenomena/Project 14/First_tests/SingleFishSimulations/Test4_CleaningUp.ipynb Cell 7\u001b[0m in \u001b[0;36m2\n\u001b[1;32m     <a href='vscode-notebook-cell:/home/mikolaj/Documents/Studia/Computer%20Modeling%20of%20Physical%20Phenomena/Project%2014/First_tests/SingleFishSimulations/Test4_CleaningUp.ipynb#W6sZmlsZQ%3D%3D?line=23'>24</a>\u001b[0m fish_population\u001b[39m.\u001b[39mappend(fish_count)\n\u001b[1;32m     <a href='vscode-notebook-cell:/home/mikolaj/Documents/Studia/Computer%20Modeling%20of%20Physical%20Phenomena/Project%2014/First_tests/SingleFishSimulations/Test4_CleaningUp.ipynb#W6sZmlsZQ%3D%3D?line=24'>25</a>\u001b[0m shark_population\u001b[39m.\u001b[39mappend(shark_count)\n\u001b[0;32m---> <a href='vscode-notebook-cell:/home/mikolaj/Documents/Studia/Computer%20Modeling%20of%20Physical%20Phenomena/Project%2014/First_tests/SingleFishSimulations/Test4_CleaningUp.ipynb#W6sZmlsZQ%3D%3D?line=26'>27</a>\u001b[0m screen\u001b[39m.\u001b[39;49mfill(BLACK)\n\u001b[1;32m     <a href='vscode-notebook-cell:/home/mikolaj/Documents/Studia/Computer%20Modeling%20of%20Physical%20Phenomena/Project%2014/First_tests/SingleFishSimulations/Test4_CleaningUp.ipynb#W6sZmlsZQ%3D%3D?line=27'>28</a>\u001b[0m \u001b[39mfor\u001b[39;00m i \u001b[39min\u001b[39;00m \u001b[39mrange\u001b[39m(OCEAN_SIZE):\n\u001b[1;32m     <a href='vscode-notebook-cell:/home/mikolaj/Documents/Studia/Computer%20Modeling%20of%20Physical%20Phenomena/Project%2014/First_tests/SingleFishSimulations/Test4_CleaningUp.ipynb#W6sZmlsZQ%3D%3D?line=28'>29</a>\u001b[0m     \u001b[39mfor\u001b[39;00m j \u001b[39min\u001b[39;00m \u001b[39mrange\u001b[39m(OCEAN_SIZE):\n",
      "\u001b[0;31merror\u001b[0m: display Surface quit"
     ]
    }
   ],
   "source": [
    "# Initialize Pygame\n",
    "pygame.init()\n",
    "screen = pygame.display.set_mode(WINDOW_SIZE)\n",
    "clock = pygame.time.Clock()\n",
    "\n",
    "frame_number = 0\n",
    "while True:\n",
    "    for event in pygame.event.get():\n",
    "        if event.type == pygame.QUIT or (event.type == pygame.KEYDOWN and event.key == pygame.K_ESCAPE):\n",
    "            pygame.quit()\n",
    "            continue\n",
    "            #quit()\n",
    "\n",
    "    for i in range(OCEAN_SIZE):\n",
    "        for j in range(OCEAN_SIZE):\n",
    "            if isinstance(ocean[i][j], Fish):\n",
    "                ocean[i][j].move()\n",
    "            elif isinstance(ocean[i][j],Shark):\n",
    "                ocean[i][j].move()\n",
    "\n",
    "    #lets record the populations over time\n",
    "    fish_count = sum(isinstance(cell, Fish) for row in ocean for cell in row)\n",
    "    shark_count = sum(isinstance(cell, Shark) for row in ocean for cell in row)\n",
    "    fish_population.append(fish_count)\n",
    "    shark_population.append(shark_count)\n",
    "    \n",
    "    screen.fill(BLACK)\n",
    "    for i in range(OCEAN_SIZE):\n",
    "        for j in range(OCEAN_SIZE):\n",
    "            if isinstance(ocean[i][j], Fish):\n",
    "                pygame.draw.rect(screen, BLUE, [j * CELL_SIZE, i * CELL_SIZE, CELL_SIZE, CELL_SIZE])\n",
    "            elif isinstance(ocean[i][j], Shark):\n",
    "                pygame.draw.rect(screen, GRAY, [j * CELL_SIZE, i * CELL_SIZE, CELL_SIZE, CELL_SIZE])\n",
    "\n",
    "    pygame.display.flip()\n",
    "\n",
    "    # Save the current frame to an image file.\n",
    "    #pygame.image.save(screen, f\"frame_{frame_number}.png\")\n",
    "    frame_number += 1\n",
    "\n",
    "    clock.tick(60)\n"
   ]
  },
  {
   "cell_type": "code",
   "execution_count": 14,
   "metadata": {},
   "outputs": [],
   "source": [
    "from matplotlib.colors import ListedColormap, BoundaryNorm\n",
    "import matplotlib.pyplot as plt\n",
    "import os\n",
    "\n",
    "def save_frames(num_frames):\n",
    "    # Create a new directory to store the frames\n",
    "    if not os.path.exists('frames'):\n",
    "        os.makedirs('frames')\n",
    "\n",
    "    # Define the color map and normalization\n",
    "    colors = [(1, 1, 1), (0, 0, 1), (0.5, 0.5, 0.5)]  # white for empty, blue for fish, gray for shark\n",
    "    cmap = ListedColormap(colors)\n",
    "    boundaries = [-0.5, 0.5, 1.5, 2.5]  # boundaries for color map\n",
    "    norm = BoundaryNorm(boundaries, cmap.N, clip=True)\n",
    "\n",
    "    # Generate and save frames\n",
    "    for i in tqdm(range(num_frames)):\n",
    "        # Update the ocean\n",
    "        for row in ocean:\n",
    "            for cell in row:\n",
    "                if isinstance(cell, Fish):\n",
    "                    cell.move()\n",
    "                elif isinstance(cell, Shark):\n",
    "                    cell.move()\n",
    "\n",
    "        # Convert ocean to a numerical 2D array for plotting\n",
    "        ocean_array = [[0 if cell is None else (1 if isinstance(cell, Fish) else 2) for cell in row] for row in ocean]\n",
    "\n",
    "        # Plot and save the frame\n",
    "        plt.imshow(ocean_array, cmap=cmap, norm=norm)\n",
    "        plt.savefig(f'frames/frame_{i}.png')\n",
    "        plt.clf()  # Clear the current figure after saving the frame\n",
    "\n",
    "    print(\"All frames saved.\")\n",
    "\n"
   ]
  },
  {
   "cell_type": "code",
   "execution_count": 13,
   "metadata": {},
   "outputs": [
    {
     "name": "stderr",
     "output_type": "stream",
     "text": [
      " 14%|█▍        | 140/1000 [00:36<03:42,  3.86it/s]\n"
     ]
    },
    {
     "ename": "KeyboardInterrupt",
     "evalue": "",
     "output_type": "error",
     "traceback": [
      "\u001b[0;31m---------------------------------------------------------------------------\u001b[0m",
      "\u001b[0;31mKeyboardInterrupt\u001b[0m                         Traceback (most recent call last)",
      "\u001b[1;32m/home/mikolaj/Documents/Studia/Computer Modeling of Physical Phenomena/Project 14/First_tests/SingleFishSimulations/Test4_CleaningUp.ipynb Cell 9\u001b[0m in \u001b[0;36m2\n\u001b[1;32m      <a href='vscode-notebook-cell:/home/mikolaj/Documents/Studia/Computer%20Modeling%20of%20Physical%20Phenomena/Project%2014/First_tests/SingleFishSimulations/Test4_CleaningUp.ipynb#X15sZmlsZQ%3D%3D?line=0'>1</a>\u001b[0m \u001b[39mfor\u001b[39;00m i \u001b[39min\u001b[39;00m tqdm(\u001b[39mrange\u001b[39m(\u001b[39m1000\u001b[39m)):\n\u001b[0;32m----> <a href='vscode-notebook-cell:/home/mikolaj/Documents/Studia/Computer%20Modeling%20of%20Physical%20Phenomena/Project%2014/First_tests/SingleFishSimulations/Test4_CleaningUp.ipynb#X15sZmlsZQ%3D%3D?line=1'>2</a>\u001b[0m     update(i)\n",
      "\u001b[1;32m/home/mikolaj/Documents/Studia/Computer Modeling of Physical Phenomena/Project 14/First_tests/SingleFishSimulations/Test4_CleaningUp.ipynb Cell 9\u001b[0m in \u001b[0;36m3\n\u001b[1;32m     <a href='vscode-notebook-cell:/home/mikolaj/Documents/Studia/Computer%20Modeling%20of%20Physical%20Phenomena/Project%2014/First_tests/SingleFishSimulations/Test4_CleaningUp.ipynb#X15sZmlsZQ%3D%3D?line=28'>29</a>\u001b[0m             grid[i, j] \u001b[39m=\u001b[39m [\u001b[39m0.5\u001b[39m, \u001b[39m0.5\u001b[39m, \u001b[39m0.5\u001b[39m]  \u001b[39m# Gray for sharks\u001b[39;00m\n\u001b[1;32m     <a href='vscode-notebook-cell:/home/mikolaj/Documents/Studia/Computer%20Modeling%20of%20Physical%20Phenomena/Project%2014/First_tests/SingleFishSimulations/Test4_CleaningUp.ipynb#X15sZmlsZQ%3D%3D?line=29'>30</a>\u001b[0m plt\u001b[39m.\u001b[39mfigure()\n\u001b[0;32m---> <a href='vscode-notebook-cell:/home/mikolaj/Documents/Studia/Computer%20Modeling%20of%20Physical%20Phenomena/Project%2014/First_tests/SingleFishSimulations/Test4_CleaningUp.ipynb#X15sZmlsZQ%3D%3D?line=30'>31</a>\u001b[0m plt\u001b[39m.\u001b[39;49mimshow(grid, origin\u001b[39m=\u001b[39;49m\u001b[39m'\u001b[39;49m\u001b[39mlower\u001b[39;49m\u001b[39m'\u001b[39;49m)\n\u001b[1;32m     <a href='vscode-notebook-cell:/home/mikolaj/Documents/Studia/Computer%20Modeling%20of%20Physical%20Phenomena/Project%2014/First_tests/SingleFishSimulations/Test4_CleaningUp.ipynb#X15sZmlsZQ%3D%3D?line=31'>32</a>\u001b[0m plt\u001b[39m.\u001b[39msavefig(\u001b[39mf\u001b[39m\u001b[39m'\u001b[39m\u001b[39mframe_\u001b[39m\u001b[39m{\u001b[39;00mframe\u001b[39m}\u001b[39;00m\u001b[39m.png\u001b[39m\u001b[39m'\u001b[39m)  \u001b[39m# Save the current frame as an image\u001b[39;00m\n\u001b[1;32m     <a href='vscode-notebook-cell:/home/mikolaj/Documents/Studia/Computer%20Modeling%20of%20Physical%20Phenomena/Project%2014/First_tests/SingleFishSimulations/Test4_CleaningUp.ipynb#X15sZmlsZQ%3D%3D?line=32'>33</a>\u001b[0m plt\u001b[39m.\u001b[39mclose()\n",
      "File \u001b[0;32m~/.local/lib/python3.10/site-packages/matplotlib/_api/deprecation.py:454\u001b[0m, in \u001b[0;36mmake_keyword_only.<locals>.wrapper\u001b[0;34m(*args, **kwargs)\u001b[0m\n\u001b[1;32m    448\u001b[0m \u001b[39mif\u001b[39;00m \u001b[39mlen\u001b[39m(args) \u001b[39m>\u001b[39m name_idx:\n\u001b[1;32m    449\u001b[0m     warn_deprecated(\n\u001b[1;32m    450\u001b[0m         since, message\u001b[39m=\u001b[39m\u001b[39m\"\u001b[39m\u001b[39mPassing the \u001b[39m\u001b[39m%(name)s\u001b[39;00m\u001b[39m \u001b[39m\u001b[39m%(obj_type)s\u001b[39;00m\u001b[39m \u001b[39m\u001b[39m\"\u001b[39m\n\u001b[1;32m    451\u001b[0m         \u001b[39m\"\u001b[39m\u001b[39mpositionally is deprecated since Matplotlib \u001b[39m\u001b[39m%(since)s\u001b[39;00m\u001b[39m; the \u001b[39m\u001b[39m\"\u001b[39m\n\u001b[1;32m    452\u001b[0m         \u001b[39m\"\u001b[39m\u001b[39mparameter will become keyword-only \u001b[39m\u001b[39m%(removal)s\u001b[39;00m\u001b[39m.\u001b[39m\u001b[39m\"\u001b[39m,\n\u001b[1;32m    453\u001b[0m         name\u001b[39m=\u001b[39mname, obj_type\u001b[39m=\u001b[39m\u001b[39mf\u001b[39m\u001b[39m\"\u001b[39m\u001b[39mparameter of \u001b[39m\u001b[39m{\u001b[39;00mfunc\u001b[39m.\u001b[39m\u001b[39m__name__\u001b[39m\u001b[39m}\u001b[39;00m\u001b[39m()\u001b[39m\u001b[39m\"\u001b[39m)\n\u001b[0;32m--> 454\u001b[0m \u001b[39mreturn\u001b[39;00m func(\u001b[39m*\u001b[39;49margs, \u001b[39m*\u001b[39;49m\u001b[39m*\u001b[39;49mkwargs)\n",
      "File \u001b[0;32m~/.local/lib/python3.10/site-packages/matplotlib/pyplot.py:2623\u001b[0m, in \u001b[0;36mimshow\u001b[0;34m(X, cmap, norm, aspect, interpolation, alpha, vmin, vmax, origin, extent, interpolation_stage, filternorm, filterrad, resample, url, data, **kwargs)\u001b[0m\n\u001b[1;32m   2617\u001b[0m \u001b[39m@_copy_docstring_and_deprecators\u001b[39m(Axes\u001b[39m.\u001b[39mimshow)\n\u001b[1;32m   2618\u001b[0m \u001b[39mdef\u001b[39;00m \u001b[39mimshow\u001b[39m(\n\u001b[1;32m   2619\u001b[0m         X, cmap\u001b[39m=\u001b[39m\u001b[39mNone\u001b[39;00m, norm\u001b[39m=\u001b[39m\u001b[39mNone\u001b[39;00m, aspect\u001b[39m=\u001b[39m\u001b[39mNone\u001b[39;00m, interpolation\u001b[39m=\u001b[39m\u001b[39mNone\u001b[39;00m,\n\u001b[1;32m   2620\u001b[0m         alpha\u001b[39m=\u001b[39m\u001b[39mNone\u001b[39;00m, vmin\u001b[39m=\u001b[39m\u001b[39mNone\u001b[39;00m, vmax\u001b[39m=\u001b[39m\u001b[39mNone\u001b[39;00m, origin\u001b[39m=\u001b[39m\u001b[39mNone\u001b[39;00m, extent\u001b[39m=\u001b[39m\u001b[39mNone\u001b[39;00m, \u001b[39m*\u001b[39m,\n\u001b[1;32m   2621\u001b[0m         interpolation_stage\u001b[39m=\u001b[39m\u001b[39mNone\u001b[39;00m, filternorm\u001b[39m=\u001b[39m\u001b[39mTrue\u001b[39;00m, filterrad\u001b[39m=\u001b[39m\u001b[39m4.0\u001b[39m,\n\u001b[1;32m   2622\u001b[0m         resample\u001b[39m=\u001b[39m\u001b[39mNone\u001b[39;00m, url\u001b[39m=\u001b[39m\u001b[39mNone\u001b[39;00m, data\u001b[39m=\u001b[39m\u001b[39mNone\u001b[39;00m, \u001b[39m*\u001b[39m\u001b[39m*\u001b[39mkwargs):\n\u001b[0;32m-> 2623\u001b[0m     __ret \u001b[39m=\u001b[39m gca()\u001b[39m.\u001b[39mimshow(\n\u001b[1;32m   2624\u001b[0m         X, cmap\u001b[39m=\u001b[39mcmap, norm\u001b[39m=\u001b[39mnorm, aspect\u001b[39m=\u001b[39maspect,\n\u001b[1;32m   2625\u001b[0m         interpolation\u001b[39m=\u001b[39minterpolation, alpha\u001b[39m=\u001b[39malpha, vmin\u001b[39m=\u001b[39mvmin,\n\u001b[1;32m   2626\u001b[0m         vmax\u001b[39m=\u001b[39mvmax, origin\u001b[39m=\u001b[39morigin, extent\u001b[39m=\u001b[39mextent,\n\u001b[1;32m   2627\u001b[0m         interpolation_stage\u001b[39m=\u001b[39minterpolation_stage,\n\u001b[1;32m   2628\u001b[0m         filternorm\u001b[39m=\u001b[39mfilternorm, filterrad\u001b[39m=\u001b[39mfilterrad, resample\u001b[39m=\u001b[39mresample,\n\u001b[1;32m   2629\u001b[0m         url\u001b[39m=\u001b[39murl, \u001b[39m*\u001b[39m\u001b[39m*\u001b[39m({\u001b[39m\"\u001b[39m\u001b[39mdata\u001b[39m\u001b[39m\"\u001b[39m: data} \u001b[39mif\u001b[39;00m data \u001b[39mis\u001b[39;00m \u001b[39mnot\u001b[39;00m \u001b[39mNone\u001b[39;00m \u001b[39melse\u001b[39;00m {}),\n\u001b[1;32m   2630\u001b[0m         \u001b[39m*\u001b[39m\u001b[39m*\u001b[39mkwargs)\n\u001b[1;32m   2631\u001b[0m     sci(__ret)\n\u001b[1;32m   2632\u001b[0m     \u001b[39mreturn\u001b[39;00m __ret\n",
      "File \u001b[0;32m~/.local/lib/python3.10/site-packages/matplotlib/pyplot.py:2237\u001b[0m, in \u001b[0;36mgca\u001b[0;34m()\u001b[0m\n\u001b[1;32m   2235\u001b[0m \u001b[39m@_copy_docstring_and_deprecators\u001b[39m(Figure\u001b[39m.\u001b[39mgca)\n\u001b[1;32m   2236\u001b[0m \u001b[39mdef\u001b[39;00m \u001b[39mgca\u001b[39m():\n\u001b[0;32m-> 2237\u001b[0m     \u001b[39mreturn\u001b[39;00m gcf()\u001b[39m.\u001b[39;49mgca()\n",
      "File \u001b[0;32m~/.local/lib/python3.10/site-packages/matplotlib/figure.py:1616\u001b[0m, in \u001b[0;36mFigureBase.gca\u001b[0;34m(self)\u001b[0m\n\u001b[1;32m   1606\u001b[0m \u001b[39m\"\"\"\u001b[39;00m\n\u001b[1;32m   1607\u001b[0m \u001b[39mGet the current Axes.\u001b[39;00m\n\u001b[1;32m   1608\u001b[0m \n\u001b[0;32m   (...)\u001b[0m\n\u001b[1;32m   1613\u001b[0m \u001b[39mwhether `.pyplot.get_fignums()` is empty.)\u001b[39;00m\n\u001b[1;32m   1614\u001b[0m \u001b[39m\"\"\"\u001b[39;00m\n\u001b[1;32m   1615\u001b[0m ax \u001b[39m=\u001b[39m \u001b[39mself\u001b[39m\u001b[39m.\u001b[39m_axstack\u001b[39m.\u001b[39mcurrent()\n\u001b[0;32m-> 1616\u001b[0m \u001b[39mreturn\u001b[39;00m ax \u001b[39mif\u001b[39;00m ax \u001b[39mis\u001b[39;00m \u001b[39mnot\u001b[39;00m \u001b[39mNone\u001b[39;00m \u001b[39melse\u001b[39;00m \u001b[39mself\u001b[39;49m\u001b[39m.\u001b[39;49madd_subplot()\n",
      "File \u001b[0;32m~/.local/lib/python3.10/site-packages/matplotlib/figure.py:745\u001b[0m, in \u001b[0;36mFigureBase.add_subplot\u001b[0;34m(self, *args, **kwargs)\u001b[0m\n\u001b[1;32m    742\u001b[0m         args \u001b[39m=\u001b[39m \u001b[39mtuple\u001b[39m(\u001b[39mmap\u001b[39m(\u001b[39mint\u001b[39m, \u001b[39mstr\u001b[39m(args[\u001b[39m0\u001b[39m])))\n\u001b[1;32m    743\u001b[0m     projection_class, pkw \u001b[39m=\u001b[39m \u001b[39mself\u001b[39m\u001b[39m.\u001b[39m_process_projection_requirements(\n\u001b[1;32m    744\u001b[0m         \u001b[39m*\u001b[39margs, \u001b[39m*\u001b[39m\u001b[39m*\u001b[39mkwargs)\n\u001b[0;32m--> 745\u001b[0m     ax \u001b[39m=\u001b[39m subplot_class_factory(projection_class)(\u001b[39mself\u001b[39;49m, \u001b[39m*\u001b[39;49margs, \u001b[39m*\u001b[39;49m\u001b[39m*\u001b[39;49mpkw)\n\u001b[1;32m    746\u001b[0m     key \u001b[39m=\u001b[39m (projection_class, pkw)\n\u001b[1;32m    747\u001b[0m \u001b[39mreturn\u001b[39;00m \u001b[39mself\u001b[39m\u001b[39m.\u001b[39m_add_axes_internal(ax, key)\n",
      "File \u001b[0;32m~/.local/lib/python3.10/site-packages/matplotlib/axes/_subplots.py:34\u001b[0m, in \u001b[0;36mSubplotBase.__init__\u001b[0;34m(self, fig, *args, **kwargs)\u001b[0m\n\u001b[1;32m     15\u001b[0m \u001b[39m\"\"\"\u001b[39;00m\n\u001b[1;32m     16\u001b[0m \u001b[39mParameters\u001b[39;00m\n\u001b[1;32m     17\u001b[0m \u001b[39m----------\u001b[39;00m\n\u001b[0;32m   (...)\u001b[0m\n\u001b[1;32m     31\u001b[0m \u001b[39m    Keyword arguments are passed to the Axes (sub)class constructor.\u001b[39;00m\n\u001b[1;32m     32\u001b[0m \u001b[39m\"\"\"\u001b[39;00m\n\u001b[1;32m     33\u001b[0m \u001b[39m# _axes_class is set in the subplot_class_factory\u001b[39;00m\n\u001b[0;32m---> 34\u001b[0m \u001b[39mself\u001b[39;49m\u001b[39m.\u001b[39;49m_axes_class\u001b[39m.\u001b[39;49m\u001b[39m__init__\u001b[39;49m(\u001b[39mself\u001b[39;49m, fig, [\u001b[39m0\u001b[39;49m, \u001b[39m0\u001b[39;49m, \u001b[39m1\u001b[39;49m, \u001b[39m1\u001b[39;49m], \u001b[39m*\u001b[39;49m\u001b[39m*\u001b[39;49mkwargs)\n\u001b[1;32m     35\u001b[0m \u001b[39m# This will also update the axes position.\u001b[39;00m\n\u001b[1;32m     36\u001b[0m \u001b[39mself\u001b[39m\u001b[39m.\u001b[39mset_subplotspec(SubplotSpec\u001b[39m.\u001b[39m_from_subplot_args(fig, args))\n",
      "File \u001b[0;32m~/.local/lib/python3.10/site-packages/matplotlib/axes/_base.py:653\u001b[0m, in \u001b[0;36m_AxesBase.__init__\u001b[0;34m(self, fig, rect, facecolor, frameon, sharex, sharey, label, xscale, yscale, box_aspect, **kwargs)\u001b[0m\n\u001b[1;32m    650\u001b[0m \u001b[39mself\u001b[39m\u001b[39m.\u001b[39mset_axisbelow(mpl\u001b[39m.\u001b[39mrcParams[\u001b[39m'\u001b[39m\u001b[39maxes.axisbelow\u001b[39m\u001b[39m'\u001b[39m])\n\u001b[1;32m    652\u001b[0m \u001b[39mself\u001b[39m\u001b[39m.\u001b[39m_rasterization_zorder \u001b[39m=\u001b[39m \u001b[39mNone\u001b[39;00m\n\u001b[0;32m--> 653\u001b[0m \u001b[39mself\u001b[39;49m\u001b[39m.\u001b[39;49mclear()\n\u001b[1;32m    655\u001b[0m \u001b[39m# funcs used to format x and y - fall back on major formatters\u001b[39;00m\n\u001b[1;32m    656\u001b[0m \u001b[39mself\u001b[39m\u001b[39m.\u001b[39mfmt_xdata \u001b[39m=\u001b[39m \u001b[39mNone\u001b[39;00m\n",
      "File \u001b[0;32m~/.local/lib/python3.10/site-packages/matplotlib/axes/_base.py:1348\u001b[0m, in \u001b[0;36m_AxesBase.clear\u001b[0;34m(self)\u001b[0m\n\u001b[1;32m   1346\u001b[0m     \u001b[39mself\u001b[39m\u001b[39m.\u001b[39mcla()\n\u001b[1;32m   1347\u001b[0m \u001b[39melse\u001b[39;00m:\n\u001b[0;32m-> 1348\u001b[0m     \u001b[39mself\u001b[39;49m\u001b[39m.\u001b[39;49m__clear()\n",
      "File \u001b[0;32m~/.local/lib/python3.10/site-packages/matplotlib/axes/_base.py:1269\u001b[0m, in \u001b[0;36m_AxesBase.__clear\u001b[0;34m(self)\u001b[0m\n\u001b[1;32m   1267\u001b[0m \u001b[39mself\u001b[39m\u001b[39m.\u001b[39m_gridOn \u001b[39m=\u001b[39m mpl\u001b[39m.\u001b[39mrcParams[\u001b[39m'\u001b[39m\u001b[39maxes.grid\u001b[39m\u001b[39m'\u001b[39m]\n\u001b[1;32m   1268\u001b[0m \u001b[39mself\u001b[39m\u001b[39m.\u001b[39m_children \u001b[39m=\u001b[39m []\n\u001b[0;32m-> 1269\u001b[0m \u001b[39mself\u001b[39m\u001b[39m.\u001b[39m_mouseover_set \u001b[39m=\u001b[39m _OrderedSet()\n\u001b[1;32m   1270\u001b[0m \u001b[39mself\u001b[39m\u001b[39m.\u001b[39mchild_axes \u001b[39m=\u001b[39m []\n\u001b[1;32m   1271\u001b[0m \u001b[39mself\u001b[39m\u001b[39m.\u001b[39m_current_image \u001b[39m=\u001b[39m \u001b[39mNone\u001b[39;00m  \u001b[39m# strictly for pyplot via _sci, _gci\u001b[39;00m\n",
      "\u001b[0;31mKeyboardInterrupt\u001b[0m: "
     ]
    },
    {
     "data": {
      "text/plain": [
       "<Figure size 640x480 with 0 Axes>"
      ]
     },
     "metadata": {},
     "output_type": "display_data"
    }
   ],
   "source": [
    "save_frames(100)"
   ]
  },
  {
   "cell_type": "code",
   "execution_count": null,
   "metadata": {},
   "outputs": [],
   "source": [
    "sharks2 = []\n",
    "for shark in shark_population:\n",
    "    sharks2.append(shark*100)\n",
    "\n",
    "plt.figure()\n",
    "plt.plot(fish_population, label = \"Fish\")\n",
    "plt.plot( sharks2, label = \"Sharks * 100\")\n",
    "\n",
    "#plt.plot(fish_population, shark_population)\n",
    "plt.xlabel(\"generations/time\")\n",
    "plt.ylabel(\"Number of fishes/sharks\")\n",
    "plt.title(\"rescaled sharks to see fluctuations\")\n",
    "plt.legend()\n",
    "#plt.savefig(\"SpecialCase.png\")\n",
    "plt.show()"
   ]
  },
  {
   "cell_type": "code",
   "execution_count": null,
   "metadata": {},
   "outputs": [],
   "source": [
    "plt.figure()\n",
    "plt.plot(fish_population, label = \"Fish\")\n",
    "plt.plot( shark_population, label = \"Sharks\")\n",
    "plt.xlabel(\"generations/time\")\n",
    "plt.ylabel(\"Number of fishes/sharks\")\n",
    "plt.legend()\n",
    "#plt.savefig(\"SpecialCase.png\")\n",
    "plt.show()\n"
   ]
  },
  {
   "cell_type": "code",
   "execution_count": null,
   "metadata": {},
   "outputs": [],
   "source": [
    "plt.figure()\n",
    "plt.plot(fish_population, shark_population)\n",
    "plt.xlabel(\"Fish\")\n",
    "plt.ylabel(\"Sharks\")\n",
    "plt.title(\"Equalibrium\")\n",
    "#plt.savefig(\"SpecialCase.png\")\n",
    "plt.show()"
   ]
  },
  {
   "cell_type": "code",
   "execution_count": null,
   "metadata": {},
   "outputs": [],
   "source": [
    "''' Notes '''\n",
    "'''\n",
    "1. Add saving images not from pygame to track evolution of ocean.\n",
    "2. Run the simulaiton for at least 1000 steps.\n",
    "3. Rescale/zoomIn o equilibrium.\n",
    "4. Show population varianc over time for sharks. I need to show how it changes over time.\n",
    "5. Write a presentation showing how the syste works.\n",
    "6. try to run code on new laptop. there may be errors due to refreshrate on MacBook.\n",
    "7. maybe add lines to show how equilibium mathces with poplation graphs.\n",
    "'''"
   ]
  }
 ],
 "metadata": {
  "kernelspec": {
   "display_name": "Python 3",
   "language": "python",
   "name": "python3"
  },
  "language_info": {
   "codemirror_mode": {
    "name": "ipython",
    "version": 3
   },
   "file_extension": ".py",
   "mimetype": "text/x-python",
   "name": "python",
   "nbconvert_exporter": "python",
   "pygments_lexer": "ipython3",
   "version": "3.10.6"
  },
  "orig_nbformat": 4
 },
 "nbformat": 4,
 "nbformat_minor": 2
}
